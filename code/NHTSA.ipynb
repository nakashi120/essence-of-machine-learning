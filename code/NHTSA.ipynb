{
 "cells": [
  {
   "cell_type": "markdown",
   "metadata": {},
   "source": [
    "# NHTSA"
   ]
  },
  {
   "cell_type": "code",
   "execution_count": 15,
   "metadata": {},
   "outputs": [],
   "source": [
    "import requests\n",
    "import json"
   ]
  },
  {
   "cell_type": "markdown",
   "metadata": {},
   "source": [
    "## Get by Model Year, Make, Model"
   ]
  },
  {
   "cell_type": "markdown",
   "metadata": {},
   "source": [
    "### Get all Model Years"
   ]
  },
  {
   "cell_type": "code",
   "execution_count": 61,
   "metadata": {},
   "outputs": [
    {
     "data": {
      "text/plain": [
       "{'count': 75,\n",
       " 'message': 'Results returned successfully',\n",
       " 'results': [{'modelYear': '1949'},\n",
       "  {'modelYear': '1950'},\n",
       "  {'modelYear': '1951'},\n",
       "  {'modelYear': '1952'},\n",
       "  {'modelYear': '1953'},\n",
       "  {'modelYear': '1954'},\n",
       "  {'modelYear': '1955'},\n",
       "  {'modelYear': '1956'},\n",
       "  {'modelYear': '1957'},\n",
       "  {'modelYear': '1958'},\n",
       "  {'modelYear': '1959'},\n",
       "  {'modelYear': '1960'},\n",
       "  {'modelYear': '1961'},\n",
       "  {'modelYear': '1962'},\n",
       "  {'modelYear': '1963'},\n",
       "  {'modelYear': '1964'},\n",
       "  {'modelYear': '1965'},\n",
       "  {'modelYear': '1966'},\n",
       "  {'modelYear': '1967'},\n",
       "  {'modelYear': '1968'},\n",
       "  {'modelYear': '1969'},\n",
       "  {'modelYear': '1970'},\n",
       "  {'modelYear': '1971'},\n",
       "  {'modelYear': '1972'},\n",
       "  {'modelYear': '1973'},\n",
       "  {'modelYear': '1974'},\n",
       "  {'modelYear': '1975'},\n",
       "  {'modelYear': '1976'},\n",
       "  {'modelYear': '1977'},\n",
       "  {'modelYear': '1978'},\n",
       "  {'modelYear': '1979'},\n",
       "  {'modelYear': '1980'},\n",
       "  {'modelYear': '1981'},\n",
       "  {'modelYear': '1982'},\n",
       "  {'modelYear': '1983'},\n",
       "  {'modelYear': '1984'},\n",
       "  {'modelYear': '1985'},\n",
       "  {'modelYear': '1986'},\n",
       "  {'modelYear': '1987'},\n",
       "  {'modelYear': '1988'},\n",
       "  {'modelYear': '1989'},\n",
       "  {'modelYear': '1990'},\n",
       "  {'modelYear': '1991'},\n",
       "  {'modelYear': '1992'},\n",
       "  {'modelYear': '1993'},\n",
       "  {'modelYear': '1994'},\n",
       "  {'modelYear': '1995'},\n",
       "  {'modelYear': '1996'},\n",
       "  {'modelYear': '1997'},\n",
       "  {'modelYear': '1998'},\n",
       "  {'modelYear': '1999'},\n",
       "  {'modelYear': '2000'},\n",
       "  {'modelYear': '2001'},\n",
       "  {'modelYear': '2002'},\n",
       "  {'modelYear': '2003'},\n",
       "  {'modelYear': '2004'},\n",
       "  {'modelYear': '2005'},\n",
       "  {'modelYear': '2006'},\n",
       "  {'modelYear': '2007'},\n",
       "  {'modelYear': '2008'},\n",
       "  {'modelYear': '2009'},\n",
       "  {'modelYear': '2010'},\n",
       "  {'modelYear': '2011'},\n",
       "  {'modelYear': '2012'},\n",
       "  {'modelYear': '2013'},\n",
       "  {'modelYear': '2014'},\n",
       "  {'modelYear': '2015'},\n",
       "  {'modelYear': '2016'},\n",
       "  {'modelYear': '2017'},\n",
       "  {'modelYear': '2018'},\n",
       "  {'modelYear': '2019'},\n",
       "  {'modelYear': '2020'},\n",
       "  {'modelYear': '2021'},\n",
       "  {'modelYear': '2022'},\n",
       "  {'modelYear': '9999'}]}"
      ]
     },
     "execution_count": 61,
     "metadata": {},
     "output_type": "execute_result"
    }
   ],
   "source": [
    "url = 'https://api.nhtsa.gov/products/vehicle/modelYears?issueType=r'\n",
    "res = requests.get(url)\n",
    "res.json()"
   ]
  },
  {
   "cell_type": "markdown",
   "metadata": {},
   "source": [
    "### Get all Makes for the Model Year"
   ]
  },
  {
   "cell_type": "code",
   "execution_count": 62,
   "metadata": {},
   "outputs": [
    {
     "data": {
      "text/plain": [
       "{'count': 172,\n",
       " 'message': 'Results returned successfully',\n",
       " 'results': [{'modelYear': '2021', 'make': 'AEV'},\n",
       "  {'modelYear': '2021', 'make': 'AIRSTREAM'},\n",
       "  {'modelYear': '2021', 'make': 'ALFA ROMEO'},\n",
       "  {'modelYear': '2021', 'make': 'ALTEC'},\n",
       "  {'modelYear': '2021', 'make': 'APRILIA'},\n",
       "  {'modelYear': '2021', 'make': 'ARBOC'},\n",
       "  {'modelYear': '2021', 'make': 'ARCIMOTO'},\n",
       "  {'modelYear': '2021', 'make': 'ASTON MARTIN'},\n",
       "  {'modelYear': '2021', 'make': 'ATC ARV'},\n",
       "  {'modelYear': '2021', 'make': 'AUDI'},\n",
       "  {'modelYear': '2021', 'make': 'AUTOCAR'},\n",
       "  {'modelYear': '2021', 'make': 'BENTLEY'},\n",
       "  {'modelYear': '2021', 'make': 'BIGFOOT'},\n",
       "  {'modelYear': '2021', 'make': 'BLACK SERIES CAMPERS'},\n",
       "  {'modelYear': '2021', 'make': 'BLACK TIE'},\n",
       "  {'modelYear': '2021', 'make': 'BLUE BIRD'},\n",
       "  {'modelYear': '2021', 'make': 'BMW'},\n",
       "  {'modelYear': '2021', 'make': 'BOLT CUSTOM TRUCKS'},\n",
       "  {'modelYear': '2021', 'make': 'BRAXTON CREEK'},\n",
       "  {'modelYear': '2021', 'make': 'BUGATTI'},\n",
       "  {'modelYear': '2021', 'make': 'BUICK'},\n",
       "  {'modelYear': '2021', 'make': 'BWISE'},\n",
       "  {'modelYear': '2021', 'make': 'CADILLAC'},\n",
       "  {'modelYear': '2021', 'make': 'CARGO EXPRESS'},\n",
       "  {'modelYear': '2021', 'make': 'CHEVROLET'},\n",
       "  {'modelYear': '2021', 'make': 'CHRYSLER'},\n",
       "  {'modelYear': '2021', 'make': 'COACH HOUSE'},\n",
       "  {'modelYear': '2021', 'make': 'COACHMEN'},\n",
       "  {'modelYear': '2021', 'make': 'COTTRELL'},\n",
       "  {'modelYear': '2021', 'make': 'CRANE CARRIER'},\n",
       "  {'modelYear': '2021', 'make': 'CRESTLINE COACH'},\n",
       "  {'modelYear': '2021', 'make': 'CRUISER'},\n",
       "  {'modelYear': '2021', 'make': 'CUSTOM FIRE'},\n",
       "  {'modelYear': '2021', 'make': 'DEMERS AMBULANCES'},\n",
       "  {'modelYear': '2021', 'make': 'DENNIS EAGLE'},\n",
       "  {'modelYear': '2021', 'make': 'DITCH WITCH'},\n",
       "  {'modelYear': '2021', 'make': 'DODGE'},\n",
       "  {'modelYear': '2021', 'make': 'DRV'},\n",
       "  {'modelYear': '2021', 'make': 'DUCATI'},\n",
       "  {'modelYear': '2021', 'make': 'DUTCHMEN'},\n",
       "  {'modelYear': '2021', 'make': 'DYNAMAX'},\n",
       "  {'modelYear': '2021', 'make': 'E-ONE'},\n",
       "  {'modelYear': '2021', 'make': 'EAST MANUFACTURING'},\n",
       "  {'modelYear': '2021', 'make': 'EAST TO WEST'},\n",
       "  {'modelYear': '2021', 'make': 'ECLIPSE'},\n",
       "  {'modelYear': '2021', 'make': 'ELDORADO'},\n",
       "  {'modelYear': '2021', 'make': 'ENTEGRA'},\n",
       "  {'modelYear': '2021', 'make': 'ETI'},\n",
       "  {'modelYear': '2021', 'make': 'FCCC'},\n",
       "  {'modelYear': '2021', 'make': 'FLEETWOOD'},\n",
       "  {'modelYear': '2021', 'make': 'FORD'},\n",
       "  {'modelYear': '2021', 'make': 'FOREST RIVER'},\n",
       "  {'modelYear': '2021', 'make': 'FREIGHTLINER'},\n",
       "  {'modelYear': '2021', 'make': 'GENESIS'},\n",
       "  {'modelYear': '2021', 'make': 'GENESIS SUPREME'},\n",
       "  {'modelYear': '2021', 'make': 'GILLIG'},\n",
       "  {'modelYear': '2021', 'make': 'GMC'},\n",
       "  {'modelYear': '2021', 'make': 'GRAND DESIGN'},\n",
       "  {'modelYear': '2021', 'make': 'GREAT DANE'},\n",
       "  {'modelYear': '2021', 'make': 'GULF STREAM'},\n",
       "  {'modelYear': '2021', 'make': 'HARLEY-DAVIDSON'},\n",
       "  {'modelYear': '2021', 'make': \"HAULIN'\"},\n",
       "  {'modelYear': '2021', 'make': 'HEARTLAND'},\n",
       "  {'modelYear': '2021', 'make': 'HIGHLAND RIDGE'},\n",
       "  {'modelYear': '2021', 'make': 'HINO'},\n",
       "  {'modelYear': '2021', 'make': 'HME'},\n",
       "  {'modelYear': '2021', 'make': 'HOLIDAY RAMBLER'},\n",
       "  {'modelYear': '2021', 'make': 'HONDA'},\n",
       "  {'modelYear': '2021', 'make': 'HOST CAMPERS'},\n",
       "  {'modelYear': '2021', 'make': 'HYUNDAI'},\n",
       "  {'modelYear': '2021', 'make': 'IC BUS'},\n",
       "  {'modelYear': '2021', 'make': 'INFINITI'},\n",
       "  {'modelYear': '2021', 'make': 'INTERNATIONAL'},\n",
       "  {'modelYear': '2021', 'make': 'ISUZU'},\n",
       "  {'modelYear': '2021', 'make': 'JAGUAR'},\n",
       "  {'modelYear': '2021', 'make': 'JAYCO'},\n",
       "  {'modelYear': '2021', 'make': 'JEEP'},\n",
       "  {'modelYear': '2021', 'make': 'KALMAR'},\n",
       "  {'modelYear': '2021', 'make': 'KARAVAN'},\n",
       "  {'modelYear': '2021', 'make': 'KAUFMAN'},\n",
       "  {'modelYear': '2021', 'make': 'KAWASAKI'},\n",
       "  {'modelYear': '2021', 'make': 'KENWORTH'},\n",
       "  {'modelYear': '2021', 'make': 'KEYSTONE'},\n",
       "  {'modelYear': '2021', 'make': 'KIA'},\n",
       "  {'modelYear': '2021', 'make': 'KME'},\n",
       "  {'modelYear': '2021', 'make': 'KZRV'},\n",
       "  {'modelYear': '2021', 'make': 'LAMBORGHINI'},\n",
       "  {'modelYear': '2021', 'make': 'LANCE'},\n",
       "  {'modelYear': '2021', 'make': 'LAND ROVER'},\n",
       "  {'modelYear': '2021', 'make': 'LEXUS'},\n",
       "  {'modelYear': '2021', 'make': 'LGS INDUSTRIES'},\n",
       "  {'modelYear': '2021', 'make': 'LINCOLN'},\n",
       "  {'modelYear': '2021', 'make': 'LODE KING'},\n",
       "  {'modelYear': '2021', 'make': 'LOOK'},\n",
       "  {'modelYear': '2021', 'make': 'MACK'},\n",
       "  {'modelYear': '2021', 'make': 'MASERATI'},\n",
       "  {'modelYear': '2021', 'make': 'MAZDA'},\n",
       "  {'modelYear': '2021', 'make': 'MCI'},\n",
       "  {'modelYear': '2021', 'make': 'MERCEDES-BENZ'},\n",
       "  {'modelYear': '2021', 'make': 'MICRO BIRD'},\n",
       "  {'modelYear': '2021', 'make': 'MINI'},\n",
       "  {'modelYear': '2021', 'make': 'MITSUBISHI FUSO'},\n",
       "  {'modelYear': '2021', 'make': 'NEW FLYER'},\n",
       "  {'modelYear': '2021', 'make': 'NEWELL'},\n",
       "  {'modelYear': '2021', 'make': 'NEWMAR'},\n",
       "  {'modelYear': '2021', 'make': 'NISSAN'},\n",
       "  {'modelYear': '2021', 'make': 'NOVA BUS'},\n",
       "  {'modelYear': '2021', 'make': 'OSAGE'},\n",
       "  {'modelYear': '2021', 'make': 'OSHKOSH'},\n",
       "  {'modelYear': '2021', 'make': 'PACE'},\n",
       "  {'modelYear': '2021', 'make': 'PALFINGER'},\n",
       "  {'modelYear': '2021', 'make': 'PALOMINO'},\n",
       "  {'modelYear': '2021', 'make': 'PETERBILT'},\n",
       "  {'modelYear': '2021', 'make': 'PIAGGIO'},\n",
       "  {'modelYear': '2021', 'make': 'PIERCE'},\n",
       "  {'modelYear': '2021', 'make': 'PJ TRAILERS'},\n",
       "  {'modelYear': '2021', 'make': 'PL CUSTOM'},\n",
       "  {'modelYear': '2021', 'make': 'PLEASURE WAY'},\n",
       "  {'modelYear': '2021', 'make': 'POLARIS'},\n",
       "  {'modelYear': '2021', 'make': 'POLESTAR'},\n",
       "  {'modelYear': '2021', 'make': 'PORSCHE'},\n",
       "  {'modelYear': '2021', 'make': 'PREVOST'},\n",
       "  {'modelYear': '2021', 'make': 'PRIME TIME'},\n",
       "  {'modelYear': '2021', 'make': 'PROTERRA'},\n",
       "  {'modelYear': '2021', 'make': 'RAM'},\n",
       "  {'modelYear': '2021', 'make': 'RANGER TRAIL'},\n",
       "  {'modelYear': '2021', 'make': 'RENEGADE'},\n",
       "  {'modelYear': '2021', 'make': 'REV AMBULANCE'},\n",
       "  {'modelYear': '2021', 'make': 'ROADTREK'},\n",
       "  {'modelYear': '2021', 'make': 'ROLLS-ROYCE'},\n",
       "  {'modelYear': '2021', 'make': 'ROSENBAUER'},\n",
       "  {'modelYear': '2021', 'make': 'SEA-DOO'},\n",
       "  {'modelYear': '2021', 'make': 'SEAGRAVE'},\n",
       "  {'modelYear': '2021', 'make': 'SPARTAN'},\n",
       "  {'modelYear': '2021', 'make': 'SPARTAN FIRE'},\n",
       "  {'modelYear': '2021', 'make': 'STARCRAFT'},\n",
       "  {'modelYear': '2021', 'make': 'STARCRAFT BUS'},\n",
       "  {'modelYear': '2021', 'make': 'SUBARU'},\n",
       "  {'modelYear': '2021', 'make': 'SUTPHEN'},\n",
       "  {'modelYear': '2021', 'make': 'SVI TRUCKS'},\n",
       "  {'modelYear': '2021', 'make': 'TEMSA'},\n",
       "  {'modelYear': '2021', 'make': 'TEREX ADVANCE'},\n",
       "  {'modelYear': '2021', 'make': 'TESLA'},\n",
       "  {'modelYear': '2021', 'make': 'THOMAS BUILT BUSES'},\n",
       "  {'modelYear': '2021', 'make': 'THOR'},\n",
       "  {'modelYear': '2021', 'make': 'THOR MOTOR COACH'},\n",
       "  {'modelYear': '2021', 'make': 'THUNDER CREEK'},\n",
       "  {'modelYear': '2021', 'make': 'TIFFIN'},\n",
       "  {'modelYear': '2021', 'make': 'TOYOTA'},\n",
       "  {'modelYear': '2021', 'make': 'TRAIL KING'},\n",
       "  {'modelYear': '2021', 'make': 'TRAILSTAR'},\n",
       "  {'modelYear': '2021', 'make': 'TRANSCRAFT'},\n",
       "  {'modelYear': '2021', 'make': 'TRIPLE E'},\n",
       "  {'modelYear': '2021', 'make': 'TRIPLE E RV'},\n",
       "  {'modelYear': '2021', 'make': 'TRIUMPH'},\n",
       "  {'modelYear': '2021', 'make': 'TUSCANY MOTOR CO'},\n",
       "  {'modelYear': '2021', 'make': 'US CARGO'},\n",
       "  {'modelYear': '2021', 'make': 'UTILIMASTER'},\n",
       "  {'modelYear': '2021', 'make': 'UTILITY TRAILER'},\n",
       "  {'modelYear': '2021', 'make': 'VAN HOOL'},\n",
       "  {'modelYear': '2021', 'make': 'VANLEIGH'},\n",
       "  {'modelYear': '2021', 'make': 'VERMEER'},\n",
       "  {'modelYear': '2021', 'make': 'VOLKSWAGEN'},\n",
       "  {'modelYear': '2021', 'make': 'VOLVO'},\n",
       "  {'modelYear': '2021', 'make': 'VOLVO BUS'},\n",
       "  {'modelYear': '2021', 'make': 'WABASH NATIONAL'},\n",
       "  {'modelYear': '2021', 'make': 'WAYFARER'},\n",
       "  {'modelYear': '2021', 'make': 'WESTERN STAR'},\n",
       "  {'modelYear': '2021', 'make': 'WINNEBAGO'},\n",
       "  {'modelYear': '2021', 'make': 'XTREME OUTDOORS'},\n",
       "  {'modelYear': '2021', 'make': 'YAMAHA'},\n",
       "  {'modelYear': '2021', 'make': 'ZERO'}]}"
      ]
     },
     "execution_count": 62,
     "metadata": {},
     "output_type": "execute_result"
    }
   ],
   "source": [
    "url = 'https://api.nhtsa.gov/products/vehicle/makes?modelYear=2021&issueType=r'\n",
    "res = requests.get(url)\n",
    "res.json()"
   ]
  },
  {
   "cell_type": "markdown",
   "metadata": {},
   "source": [
    "### Get all Model for the Make and Model Year"
   ]
  },
  {
   "cell_type": "code",
   "execution_count": 65,
   "metadata": {},
   "outputs": [
    {
     "data": {
      "text/plain": [
       "{'count': 4,\n",
       " 'message': 'Results returned successfully',\n",
       " 'results': [{'modelYear': '2021', 'make': 'TOYOTA', 'model': 'AVALON'},\n",
       "  {'modelYear': '2021', 'make': 'TOYOTA', 'model': 'RAV4 PRIME'},\n",
       "  {'modelYear': '2021', 'make': 'TOYOTA', 'model': 'SUPRA'},\n",
       "  {'modelYear': '2021', 'make': 'TOYOTA', 'model': 'TUNDRA'}]}"
      ]
     },
     "execution_count": 65,
     "metadata": {},
     "output_type": "execute_result"
    }
   ],
   "source": [
    "url = 'https://api.nhtsa.gov/products/vehicle/models?modelYear=2021&make=Toyota&issueType=r'\n",
    "res = requests.get(url)\n",
    "res.json()"
   ]
  },
  {
   "cell_type": "markdown",
   "metadata": {},
   "source": [
    "### Get all Recalls for the selected Model Year, Make, Model"
   ]
  },
  {
   "cell_type": "code",
   "execution_count": 66,
   "metadata": {},
   "outputs": [
    {
     "data": {
      "text/plain": [
       "{'Count': 1,\n",
       " 'Message': 'Results returned successfully',\n",
       " 'results': [{'Manufacturer': 'Toyota Motor Engineering & Manufacturing',\n",
       "   'NHTSACampaignNumber': '21V688000',\n",
       "   'ReportReceivedDate': '02/09/2021',\n",
       "   'Component': 'EXTERIOR LIGHTING:HEADLIGHTS',\n",
       "   'Summary': 'Toyota Motor Engineering & Manufacturing (Toyota) is recalling certain 2018-2021 Tundra vehicles.  The headlight electrical circuits may power the high and low beams simultaneously, which could overheat the electrical connector.',\n",
       "   'Conequence': 'An overheated electrical connector can increase the risk of a fire.',\n",
       "   'Remedy': \"Dealers will modify the engine wire harness assembly and replace any damaged bulb, bulb connector, and/or headlight assembly as necessary, free of charge.  Owner notification letters are expected to be mailed October 4, 2021.  Owners may contact Toyota customer service at 1-800-331-4331.  Toyota's numbers for this recall are 21TB06 and 21TA06.\",\n",
       "   'Notes': 'Owners may also contact the National Highway Traffic Safety Administration Vehicle Safety Hotline at 1-888-327-4236 (TTY 1-800-424-9153), or go to www.nhtsa.gov.',\n",
       "   'ModelYear': '2021',\n",
       "   'Make': 'TOYOTA',\n",
       "   'Model': 'TUNDRA'}]}"
      ]
     },
     "execution_count": 66,
     "metadata": {},
     "output_type": "execute_result"
    }
   ],
   "source": [
    "url = 'https://api.nhtsa.gov/recalls/recallsByVehicle?make=Toyota&model=TUNDRA&modelYear=2021'\n",
    "res = requests.get(url)\n",
    "res.json()"
   ]
  },
  {
   "cell_type": "markdown",
   "metadata": {},
   "source": [
    "### Get by NHTSA Campaign Number"
   ]
  },
  {
   "cell_type": "code",
   "execution_count": 68,
   "metadata": {},
   "outputs": [
    {
     "data": {
      "text/plain": [
       "{'Count': 4,\n",
       " 'Message': 'Results returned successfully',\n",
       " 'results': [{'Manufacturer': 'Toyota Motor Engineering & Manufacturing',\n",
       "   'NHTSACampaignNumber': '21V688000',\n",
       "   'ReportReceivedDate': '02/09/2021',\n",
       "   'Component': 'EXTERIOR LIGHTING:HEADLIGHTS',\n",
       "   'PotentialNumberofUnitsAffected': 158489,\n",
       "   'Summary': 'Toyota Motor Engineering & Manufacturing (Toyota) is recalling certain 2018-2021 Tundra vehicles.  The headlight electrical circuits may power the high and low beams simultaneously, which could overheat the electrical connector.',\n",
       "   'Conequence': 'An overheated electrical connector can increase the risk of a fire.',\n",
       "   'Remedy': \"Dealers will modify the engine wire harness assembly and replace any damaged bulb, bulb connector, and/or headlight assembly as necessary, free of charge.  Owner notification letters are expected to be mailed October 4, 2021.  Owners may contact Toyota customer service at 1-800-331-4331.  Toyota's numbers for this recall are 21TB06 and 21TA06.\",\n",
       "   'Notes': 'Owners may also contact the National Highway Traffic Safety Administration Vehicle Safety Hotline at 1-888-327-4236 (TTY 1-800-424-9153), or go to www.nhtsa.gov.',\n",
       "   'ModelYear': '2019',\n",
       "   'Make': 'TOYOTA',\n",
       "   'Model': 'TUNDRA'},\n",
       "  {'Manufacturer': 'Toyota Motor Engineering & Manufacturing',\n",
       "   'NHTSACampaignNumber': '21V688000',\n",
       "   'ReportReceivedDate': '02/09/2021',\n",
       "   'Component': 'EXTERIOR LIGHTING:HEADLIGHTS',\n",
       "   'PotentialNumberofUnitsAffected': 158489,\n",
       "   'Summary': 'Toyota Motor Engineering & Manufacturing (Toyota) is recalling certain 2018-2021 Tundra vehicles.  The headlight electrical circuits may power the high and low beams simultaneously, which could overheat the electrical connector.',\n",
       "   'Conequence': 'An overheated electrical connector can increase the risk of a fire.',\n",
       "   'Remedy': \"Dealers will modify the engine wire harness assembly and replace any damaged bulb, bulb connector, and/or headlight assembly as necessary, free of charge.  Owner notification letters are expected to be mailed October 4, 2021.  Owners may contact Toyota customer service at 1-800-331-4331.  Toyota's numbers for this recall are 21TB06 and 21TA06.\",\n",
       "   'Notes': 'Owners may also contact the National Highway Traffic Safety Administration Vehicle Safety Hotline at 1-888-327-4236 (TTY 1-800-424-9153), or go to www.nhtsa.gov.',\n",
       "   'ModelYear': '2020',\n",
       "   'Make': 'TOYOTA',\n",
       "   'Model': 'TUNDRA'},\n",
       "  {'Manufacturer': 'Toyota Motor Engineering & Manufacturing',\n",
       "   'NHTSACampaignNumber': '21V688000',\n",
       "   'ReportReceivedDate': '02/09/2021',\n",
       "   'Component': 'EXTERIOR LIGHTING:HEADLIGHTS',\n",
       "   'PotentialNumberofUnitsAffected': 158489,\n",
       "   'Summary': 'Toyota Motor Engineering & Manufacturing (Toyota) is recalling certain 2018-2021 Tundra vehicles.  The headlight electrical circuits may power the high and low beams simultaneously, which could overheat the electrical connector.',\n",
       "   'Conequence': 'An overheated electrical connector can increase the risk of a fire.',\n",
       "   'Remedy': \"Dealers will modify the engine wire harness assembly and replace any damaged bulb, bulb connector, and/or headlight assembly as necessary, free of charge.  Owner notification letters are expected to be mailed October 4, 2021.  Owners may contact Toyota customer service at 1-800-331-4331.  Toyota's numbers for this recall are 21TB06 and 21TA06.\",\n",
       "   'Notes': 'Owners may also contact the National Highway Traffic Safety Administration Vehicle Safety Hotline at 1-888-327-4236 (TTY 1-800-424-9153), or go to www.nhtsa.gov.',\n",
       "   'ModelYear': '2018',\n",
       "   'Make': 'TOYOTA',\n",
       "   'Model': 'TUNDRA'},\n",
       "  {'Manufacturer': 'Toyota Motor Engineering & Manufacturing',\n",
       "   'NHTSACampaignNumber': '21V688000',\n",
       "   'ReportReceivedDate': '02/09/2021',\n",
       "   'Component': 'EXTERIOR LIGHTING:HEADLIGHTS',\n",
       "   'PotentialNumberofUnitsAffected': 158489,\n",
       "   'Summary': 'Toyota Motor Engineering & Manufacturing (Toyota) is recalling certain 2018-2021 Tundra vehicles.  The headlight electrical circuits may power the high and low beams simultaneously, which could overheat the electrical connector.',\n",
       "   'Conequence': 'An overheated electrical connector can increase the risk of a fire.',\n",
       "   'Remedy': \"Dealers will modify the engine wire harness assembly and replace any damaged bulb, bulb connector, and/or headlight assembly as necessary, free of charge.  Owner notification letters are expected to be mailed October 4, 2021.  Owners may contact Toyota customer service at 1-800-331-4331.  Toyota's numbers for this recall are 21TB06 and 21TA06.\",\n",
       "   'Notes': 'Owners may also contact the National Highway Traffic Safety Administration Vehicle Safety Hotline at 1-888-327-4236 (TTY 1-800-424-9153), or go to www.nhtsa.gov.',\n",
       "   'ModelYear': '2021',\n",
       "   'Make': 'TOYOTA',\n",
       "   'Model': 'TUNDRA'}]}"
      ]
     },
     "execution_count": 68,
     "metadata": {},
     "output_type": "execute_result"
    }
   ],
   "source": [
    "url = 'https://api.nhtsa.gov/recalls/campaignNumber?campaignNumber=21V688000'\n",
    "res = requests.get(url)\n",
    "res.json()"
   ]
  },
  {
   "cell_type": "code",
   "execution_count": null,
   "metadata": {},
   "outputs": [],
   "source": []
  }
 ],
 "metadata": {
  "kernelspec": {
   "display_name": "Python 3",
   "language": "python",
   "name": "python3"
  },
  "language_info": {
   "codemirror_mode": {
    "name": "ipython",
    "version": 3
   },
   "file_extension": ".py",
   "mimetype": "text/x-python",
   "name": "python",
   "nbconvert_exporter": "python",
   "pygments_lexer": "ipython3",
   "version": "3.7.6"
  }
 },
 "nbformat": 4,
 "nbformat_minor": 4
}
