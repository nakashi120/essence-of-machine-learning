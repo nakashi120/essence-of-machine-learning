{
 "cells": [
  {
   "cell_type": "markdown",
   "metadata": {},
   "source": [
    "# 回帰"
   ]
  },
  {
   "cell_type": "code",
   "execution_count": 19,
   "metadata": {},
   "outputs": [],
   "source": [
    "# モジュールのインポート\n",
    "import numpy as np\n",
    "import matplotlib.pyplot as plt\n",
    "from scipy import linalg"
   ]
  },
  {
   "cell_type": "code",
   "execution_count": 1,
   "metadata": {},
   "outputs": [],
   "source": [
    "# 人工的なデータの準備\n",
    "x = [1, 2, 4, 6, 7]\n",
    "y = [1, 3, 3, 5, 3]"
   ]
  },
  {
   "cell_type": "code",
   "execution_count": 4,
   "metadata": {},
   "outputs": [
    {
     "data": {
      "image/png": "[encoded data removed]",
      "text/plain": [
       "<Figure size 432x288 with 1 Axes>"
      ]
     },
     "metadata": {
      "needs_background": "light"
     },
     "output_type": "display_data"
    }
   ],
   "source": [
    "# 散布図で見てみる\n",
    "plt.scatter(x, y)\n",
    "plt.show()"
   ]
  },
  {
   "cell_type": "markdown",
   "metadata": {},
   "source": [
    "### 原点を通る直線による近似"
   ]
  },
  {
   "cell_type": "markdown",
   "metadata": {},
   "source": [
    "$$\n",
    "a = \\frac{x^Ty}{\\|x\\|^2}\n",
    "$$"
   ]
  },
  {
   "cell_type": "code",
   "execution_count": 5,
   "metadata": {},
   "outputs": [],
   "source": [
    "def reg1dim(x, y):\n",
    "    a = np.dot(x, y)/ (x**2).sum()\n",
    "    return a"
   ]
  },
  {
   "cell_type": "code",
   "execution_count": 7,
   "metadata": {},
   "outputs": [],
   "source": [
    "x = np.array(x)\n",
    "y = np.array(y)"
   ]
  },
  {
   "cell_type": "code",
   "execution_count": 9,
   "metadata": {},
   "outputs": [],
   "source": [
    "a = reg1dim(x, y)"
   ]
  },
  {
   "cell_type": "code",
   "execution_count": 10,
   "metadata": {},
   "outputs": [
    {
     "data": {
      "image/png": "[encoded data removed]",
      "text/plain": [
       "<Figure size 432x288 with 1 Axes>"
      ]
     },
     "metadata": {
      "needs_background": "light"
     },
     "output_type": "display_data"
    }
   ],
   "source": [
    "plt.scatter(x, y, color='k')\n",
    "xmax = x.max()\n",
    "plt.plot([0, xmax], [0, a*xmax], color='k')\n",
    "plt.show()"
   ]
  },
  {
   "cell_type": "markdown",
   "metadata": {},
   "source": [
    "### 一般の直線による近似"
   ]
  },
  {
   "cell_type": "code",
   "execution_count": 13,
   "metadata": {},
   "outputs": [],
   "source": [
    "def reg1dim2(x, y):\n",
    "    n = len(x)\n",
    "    a = ((np.dot(x, y) - y.sum() * x.sum() /n ) /\n",
    "         ((x**2).sum() - x.sum()**2 / n))\n",
    "    b = (y.sum() - a * x.sum()) / n\n",
    "    return a, b"
   ]
  },
  {
   "cell_type": "code",
   "execution_count": 14,
   "metadata": {},
   "outputs": [],
   "source": [
    "a, b = reg1dim2(x, y)"
   ]
  },
  {
   "cell_type": "code",
   "execution_count": 16,
   "metadata": {},
   "outputs": [
    {
     "name": "stdout",
     "output_type": "stream",
     "text": [
      "aの値：0.38461538461538464\n",
      "bの値：1.4615384615384615\n"
     ]
    }
   ],
   "source": [
    "print(f'aの値：{a}')\n",
    "print(f'bの値：{b}')"
   ]
  },
  {
   "cell_type": "code",
   "execution_count": 18,
   "metadata": {},
   "outputs": [
    {
     "data": {
      "image/png": "[encoded data removed]",
      "text/plain": [
       "<Figure size 432x288 with 1 Axes>"
      ]
     },
     "metadata": {
      "needs_background": "light"
     },
     "output_type": "display_data"
    }
   ],
   "source": [
    "plt.scatter(x, y, color='k')\n",
    "xmax = x.max()\n",
    "# ↓この書き方で2点をつないだ直線をかける\n",
    "plt.plot([0, xmax], [b, a * xmax + b], color='k')\n",
    "plt.show()"
   ]
  },
  {
   "cell_type": "markdown",
   "metadata": {},
   "source": [
    "### 特徴量ベクトルが多次元の場合"
   ]
  },
  {
   "cell_type": "code",
   "execution_count": 26,
   "metadata": {},
   "outputs": [],
   "source": [
    "n = 100\n",
    "scale = 10\n",
    "X = np.random.random((n, 2)) * scale "
   ]
  },
  {
   "cell_type": "code",
   "execution_count": 27,
   "metadata": {},
   "outputs": [
    {
     "data": {
      "text/plain": [
       "array([[1.        , 4.34027291, 2.96385812],\n",
       "       [1.        , 1.72705418, 5.77591322],\n",
       "       [1.        , 8.1315828 , 9.39562589],\n",
       "       [1.        , 7.66932349, 9.76439011],\n",
       "       [1.        , 8.70800581, 6.99874292],\n",
       "       [1.        , 3.24657845, 7.21921707],\n",
       "       [1.        , 7.46370188, 5.56856661],\n",
       "       [1.        , 9.23757325, 9.44936923],\n",
       "       [1.        , 8.48270646, 1.15978363],\n",
       "       [1.        , 1.12252615, 0.4029426 ],\n",
       "       [1.        , 0.38831144, 7.4345521 ],\n",
       "       [1.        , 8.41737344, 9.59654989],\n",
       "       [1.        , 9.02421704, 4.56598009],\n",
       "       [1.        , 5.32961836, 8.04395574],\n",
       "       [1.        , 5.95294567, 2.54736428],\n",
       "       [1.        , 4.07486192, 0.11018377],\n",
       "       [1.        , 6.10644973, 0.6430954 ],\n",
       "       [1.        , 1.14390824, 3.34670884],\n",
       "       [1.        , 8.43084014, 4.5890455 ],\n",
       "       [1.        , 3.12614142, 8.48165605],\n",
       "       [1.        , 3.59762948, 8.66628   ],\n",
       "       [1.        , 3.99586137, 1.64849864],\n",
       "       [1.        , 1.7534227 , 1.69001379],\n",
       "       [1.        , 0.50083125, 6.46681616],\n",
       "       [1.        , 6.55312975, 0.4642833 ],\n",
       "       [1.        , 2.9352827 , 7.08768873],\n",
       "       [1.        , 2.28521235, 5.12306783],\n",
       "       [1.        , 6.76033462, 2.42922723],\n",
       "       [1.        , 9.71320997, 6.33356368],\n",
       "       [1.        , 2.49885401, 0.09449564],\n",
       "       [1.        , 3.4589163 , 7.69656316],\n",
       "       [1.        , 9.98059682, 9.37215418],\n",
       "       [1.        , 5.33648244, 0.51952392],\n",
       "       [1.        , 4.31544731, 0.80410227],\n",
       "       [1.        , 1.18661904, 0.81264782],\n",
       "       [1.        , 2.33842515, 8.04085503],\n",
       "       [1.        , 4.11197449, 8.57874109],\n",
       "       [1.        , 7.78789986, 8.67717721],\n",
       "       [1.        , 0.12803167, 5.31472924],\n",
       "       [1.        , 3.74922182, 5.69318802],\n",
       "       [1.        , 3.32928297, 9.93179735],\n",
       "       [1.        , 5.42952139, 7.84813526],\n",
       "       [1.        , 5.80317123, 5.8883104 ],\n",
       "       [1.        , 5.31840918, 7.73729065],\n",
       "       [1.        , 6.47147445, 5.30382673],\n",
       "       [1.        , 1.38797038, 2.09024112],\n",
       "       [1.        , 5.10854952, 7.6417997 ],\n",
       "       [1.        , 2.23254533, 7.37571576],\n",
       "       [1.        , 8.20446306, 4.23460991],\n",
       "       [1.        , 2.85136773, 4.76661308],\n",
       "       [1.        , 0.50292445, 1.36686345],\n",
       "       [1.        , 7.18753888, 1.35070026],\n",
       "       [1.        , 3.12397421, 9.36177616],\n",
       "       [1.        , 4.13908527, 3.70425965],\n",
       "       [1.        , 6.50317691, 0.46902324],\n",
       "       [1.        , 0.52579809, 0.8009661 ],\n",
       "       [1.        , 9.93005517, 8.15841685],\n",
       "       [1.        , 2.83756068, 9.81222282],\n",
       "       [1.        , 2.4225384 , 8.90535728],\n",
       "       [1.        , 3.52379263, 2.27938433],\n",
       "       [1.        , 7.74245969, 0.90454252],\n",
       "       [1.        , 4.7359398 , 0.52519255],\n",
       "       [1.        , 6.46409006, 2.15815608],\n",
       "       [1.        , 1.63950267, 3.48459831],\n",
       "       [1.        , 6.84004088, 5.28174665],\n",
       "       [1.        , 2.11964127, 8.28150238],\n",
       "       [1.        , 7.76052969, 9.55724632],\n",
       "       [1.        , 9.4722761 , 8.0780431 ],\n",
       "       [1.        , 0.27638997, 9.69665673],\n",
       "       [1.        , 7.96612276, 2.32327021],\n",
       "       [1.        , 9.0200352 , 9.86783734],\n",
       "       [1.        , 3.94528774, 7.63631331],\n",
       "       [1.        , 2.84518111, 6.24815208],\n",
       "       [1.        , 3.46063666, 0.17399761],\n",
       "       [1.        , 4.37029289, 6.43930822],\n",
       "       [1.        , 5.01907488, 7.28012992],\n",
       "       [1.        , 6.58160491, 8.70580652],\n",
       "       [1.        , 3.02229287, 3.49272246],\n",
       "       [1.        , 9.16111373, 1.85447805],\n",
       "       [1.        , 9.24786696, 0.16500585],\n",
       "       [1.        , 4.88305202, 3.07078979],\n",
       "       [1.        , 2.28344505, 2.67753278],\n",
       "       [1.        , 8.30935892, 4.36780977],\n",
       "       [1.        , 7.30056913, 4.58195317],\n",
       "       [1.        , 6.27991774, 8.74049536],\n",
       "       [1.        , 9.95908447, 1.93664497],\n",
       "       [1.        , 6.02340466, 9.56567452],\n",
       "       [1.        , 3.68528062, 9.07136852],\n",
       "       [1.        , 8.62188799, 4.76133371],\n",
       "       [1.        , 5.42279189, 2.82376801],\n",
       "       [1.        , 0.95835678, 6.84997476],\n",
       "       [1.        , 0.29935647, 0.61095906],\n",
       "       [1.        , 5.35148528, 6.50054409],\n",
       "       [1.        , 8.51880398, 2.10745543],\n",
       "       [1.        , 4.82429807, 9.2214301 ],\n",
       "       [1.        , 3.310356  , 5.99996538],\n",
       "       [1.        , 6.10160528, 7.05787886],\n",
       "       [1.        , 3.79095709, 7.33213919],\n",
       "       [1.        , 7.06682917, 1.21804197],\n",
       "       [1.        , 2.88829087, 1.56707608]])"
      ]
     },
     "execution_count": 27,
     "metadata": {},
     "output_type": "execute_result"
    }
   ],
   "source": [
    "np.c_[np.ones(X.shape[0]), X]"
   ]
  },
  {
   "cell_type": "code",
   "execution_count": 33,
   "metadata": {},
   "outputs": [],
   "source": [
    "class LinearRegression:\n",
    "    def __init__(self):\n",
    "        self.w_ = None\n",
    "        \n",
    "    def fit(self, X, t):\n",
    "        Xtil = np.c_[np.ones(X.shape[0]), X]\n",
    "        A = np.dot(Xtil.T, Xtil)\n",
    "        b = np.dot(Xtil.T, t)\n",
    "        self.w_ = np.linalg.solve(A, b)\n",
    "        \n",
    "    def predict(self, X):\n",
    "        if X.ndim == 1:\n",
    "            X = X.reshape(1, -1)\n",
    "        Xtil = np.c_[np.ones(X.shape[0]), X]\n",
    "        return np.dot(Xtil, self.w_)"
   ]
  },
  {
   "cell_type": "code",
   "execution_count": 34,
   "metadata": {},
   "outputs": [],
   "source": [
    "n = 100\n",
    "scale = 10\n",
    "\n",
    "np.random.seed(0)\n",
    "X = np.random.random((n, 2)) * scale\n",
    "w0 = 1\n",
    "w1 = 2\n",
    "w2 = 3\n",
    "y = w0 + w1 * X[:, 0] + w2 * X[:, 1] + np.random.randn(n)"
   ]
  },
  {
   "cell_type": "code",
   "execution_count": 35,
   "metadata": {},
   "outputs": [
    {
     "name": "stdout",
     "output_type": "stream",
     "text": [
      "係数： [1.11450326 1.95737004 3.00295751]\n",
      "(1, 1)に対する予測値： [6.07483081]\n"
     ]
    }
   ],
   "source": [
    "model = LinearRegression()\n",
    "model.fit(X, y)\n",
    "print('係数：', model.w_)\n",
    "print(\"(1, 1)に対する予測値：\", model.predict(np.array([1, 1])))"
   ]
  },
  {
   "cell_type": "code",
   "execution_count": null,
   "metadata": {},
   "outputs": [],
   "source": []
  }
 ],
 "metadata": {
  "kernelspec": {
   "display_name": "Python 3",
   "language": "python",
   "name": "python3"
  },
  "language_info": {
   "codemirror_mode": {
    "name": "ipython",
    "version": 3
   },
   "file_extension": ".py",
   "mimetype": "text/x-python",
   "name": "python",
   "nbconvert_exporter": "python",
   "pygments_lexer": "ipython3",
   "version": "3.7.6"
  }
 },
 "nbformat": 4,
 "nbformat_minor": 4
}
